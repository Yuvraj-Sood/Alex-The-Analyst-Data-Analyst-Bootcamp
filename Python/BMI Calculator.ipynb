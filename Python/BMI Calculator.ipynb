{
 "cells": [
  {
   "cell_type": "markdown",
   "id": "a7706035-a2f3-4e10-acda-0af465099e9d",
   "metadata": {},
   "source": [
    "# BMI Calculator"
   ]
  },
  {
   "cell_type": "code",
   "execution_count": 6,
   "id": "3050bfe2-f9ff-4057-a225-5c15ec014b4c",
   "metadata": {},
   "outputs": [
    {
     "name": "stdin",
     "output_type": "stream",
     "text": [
      "Enter Your Weight in pounds :  170\n",
      "Enter Your height in imches :  69\n"
     ]
    },
    {
     "name": "stdout",
     "output_type": "stream",
     "text": [
      "Over Weight\n",
      "25.101869355177485\n"
     ]
    }
   ],
   "source": [
    "weight = int(input('Enter Your Weight in pounds : '))\n",
    "height = int(input('Enter Your height in imches : '))\n",
    "BMI = (weight * 703) / (height*height)\n",
    "if(BMI>0):\n",
    "    if(BMI< 18.5):\n",
    "        print('UnderWeight')\n",
    "    elif(BMI >=18 and BMI <=24.9):\n",
    "        print('Normal Weight')\n",
    "    elif(BMI >=25 and BMI <=29.9):\n",
    "        print('Over Weight')\n",
    "    elif(BMI >=30 and BMI <=34.9):\n",
    "        print('Obese')\n",
    "    elif(BMI >=35 and BMI <=39.9):\n",
    "        print('Severly Obese')\n",
    "    else:\n",
    "        print('Morbidly Obese')\n",
    "print(BMI)\n"
   ]
  },
  {
   "cell_type": "code",
   "execution_count": null,
   "id": "a625307c-0115-4201-a331-eabcd3925154",
   "metadata": {},
   "outputs": [],
   "source": []
  }
 ],
 "metadata": {
  "kernelspec": {
   "display_name": "Python 3 (ipykernel)",
   "language": "python",
   "name": "python3"
  },
  "language_info": {
   "codemirror_mode": {
    "name": "ipython",
    "version": 3
   },
   "file_extension": ".py",
   "mimetype": "text/x-python",
   "name": "python",
   "nbconvert_exporter": "python",
   "pygments_lexer": "ipython3",
   "version": "3.11.7"
  }
 },
 "nbformat": 4,
 "nbformat_minor": 5
}
