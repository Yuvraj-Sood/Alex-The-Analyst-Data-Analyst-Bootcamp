{
 "cells": [
  {
   "cell_type": "code",
   "execution_count": 2,
   "id": "240cd0af-ba97-418c-8af5-fecb1e5f8718",
   "metadata": {},
   "outputs": [
    {
     "name": "stdout",
     "output_type": "stream",
     "text": [
      "Hello\n"
     ]
    }
   ],
   "source": [
    "print(\"Hello\")"
   ]
  },
  {
   "cell_type": "markdown",
   "id": "0251c118-39d9-42b9-a19c-f7be35b5e00b",
   "metadata": {},
   "source": [
    "# First Notebook"
   ]
  },
  {
   "cell_type": "markdown",
   "id": "0f4eb416-ca20-4495-a492-baa3a191ea5b",
   "metadata": {},
   "source": [
    "# Variables In Python"
   ]
  },
  {
   "cell_type": "code",
   "execution_count": 1,
   "id": "7e3db651-e34c-4699-9480-7cb89089aaae",
   "metadata": {},
   "outputs": [
    {
     "name": "stdout",
     "output_type": "stream",
     "text": [
      "22\n"
     ]
    }
   ],
   "source": [
    "x=22\n",
    "print(x)"
   ]
  },
  {
   "cell_type": "code",
   "execution_count": 2,
   "id": "8789c001-ccaa-4f3b-bda7-27bf7048821d",
   "metadata": {},
   "outputs": [
    {
     "data": {
      "text/plain": [
       "int"
      ]
     },
     "execution_count": 2,
     "metadata": {},
     "output_type": "execute_result"
    }
   ],
   "source": [
    "type(x)"
   ]
  },
  {
   "cell_type": "code",
   "execution_count": 4,
   "id": "87406c6c-44b5-479d-b0c5-c8c215855c71",
   "metadata": {},
   "outputs": [
    {
     "name": "stdout",
     "output_type": "stream",
     "text": [
      "Mint Chocolate Chip\n"
     ]
    },
    {
     "data": {
      "text/plain": [
       "str"
      ]
     },
     "execution_count": 4,
     "metadata": {},
     "output_type": "execute_result"
    }
   ],
   "source": [
    "y=\"Mint Chocolate Chip\"\n",
    "print(y)\n",
    "type(y)"
   ]
  },
  {
   "cell_type": "code",
   "execution_count": 6,
   "id": "8f666031-7307-4173-bd92-d2ba21a2dd30",
   "metadata": {},
   "outputs": [
    {
     "name": "stdout",
     "output_type": "stream",
     "text": [
      "Mint Chocolate Chip\n",
      "Chocolate\n"
     ]
    }
   ],
   "source": [
    "print(y)\n",
    "y= \"Chocolate\"\n",
    "print(y)"
   ]
  },
  {
   "cell_type": "code",
   "execution_count": 7,
   "id": "bfea9c39-87b9-4f4a-adb6-d93b59cb34f7",
   "metadata": {},
   "outputs": [
    {
     "name": "stdout",
     "output_type": "stream",
     "text": [
      "Chocolate\n",
      "Vanilla\n",
      "American Nuts\n"
     ]
    }
   ],
   "source": [
    "x,y,z = \"Chocolate\",\"Vanilla\",\"American Nuts\"\n",
    "print(x)\n",
    "print(y)\n",
    "print(z)"
   ]
  },
  {
   "cell_type": "code",
   "execution_count": 8,
   "id": "d2714678-1329-468b-b360-44a7fe40fc94",
   "metadata": {},
   "outputs": [
    {
     "name": "stdout",
     "output_type": "stream",
     "text": [
      "Root Beer Float\n",
      "Root Beer Float\n",
      "Root Beer Float\n"
     ]
    }
   ],
   "source": [
    "x = y = z = \"Root Beer Float\"\n",
    "print(x)\n",
    "print(y)\n",
    "print(z)"
   ]
  },
  {
   "cell_type": "code",
   "execution_count": 9,
   "id": "7ffc1afd-28e7-47f9-9000-8ae9f8fe01be",
   "metadata": {},
   "outputs": [
    {
     "name": "stdout",
     "output_type": "stream",
     "text": [
      "Chocolate\n",
      "Vanilla\n",
      "American Nuts\n"
     ]
    }
   ],
   "source": [
    "ice_cream = [\"Chocolate\",\"Vanilla\",\"American Nuts\"]\n",
    "x,y,z = ice_cream\n",
    "print(x)\n",
    "print(y)\n",
    "print(z)"
   ]
  },
  {
   "cell_type": "code",
   "execution_count": null,
   "id": "686b6c32-3288-4a44-a064-e4ad866feabb",
   "metadata": {},
   "outputs": [],
   "source": []
  },
  {
   "cell_type": "code",
   "execution_count": null,
   "id": "1c0bfc5d-1a93-4548-a6f0-680a981e947f",
   "metadata": {},
   "outputs": [],
   "source": [
    "# Camel Case\n",
    "\n",
    "# test Variable Case\n",
    "\n",
    "testVariableCase = 'Black Current'"
   ]
  },
  {
   "cell_type": "code",
   "execution_count": null,
   "id": "0913f6c0-8a69-4811-8ad6-a5b8803def8d",
   "metadata": {},
   "outputs": [],
   "source": [
    "# Pascal Case\n",
    "\n",
    "# test Variable Case\n",
    "\n",
    "TestVariableCase = 'Black Current'"
   ]
  },
  {
   "cell_type": "code",
   "execution_count": null,
   "id": "a38786b8-6ad4-4d76-9424-19a0ae645310",
   "metadata": {},
   "outputs": [],
   "source": [
    "# Snake Case\n",
    "\n",
    "# test Variable Case\n",
    "\n",
    "test_variable_case = 'Black Current'"
   ]
  },
  {
   "cell_type": "code",
   "execution_count": null,
   "id": "1e75a10f-ef94-45a4-bc40-fec79f4dc23d",
   "metadata": {},
   "outputs": [],
   "source": [
    "\n",
    "# We Can Use thesee\n",
    "\n",
    "testvar = 'Black Current'\n",
    "test_var = 'Black Current'\n",
    "_test_var = 'Black Current'\n",
    "testVar = 'Black Current'\n",
    "TestVar = 'Black Current'\n",
    "testVar2 = 'Black Current'"
   ]
  },
  {
   "cell_type": "code",
   "execution_count": null,
   "id": "8908b39b-9d75-4d78-a2aa-3324c409842f",
   "metadata": {},
   "outputs": [],
   "source": [
    "# We Cannot Use These\n",
    "\n",
    "2testVar = 'Black Current'\n",
    "test-var = 'Black Current'\n",
    "test var2 = 'Black Current'\n",
    "test,var = 'Black Current'"
   ]
  },
  {
   "cell_type": "code",
   "execution_count": null,
   "id": "80910f6d-0550-4e1c-96ca-0b36c025da68",
   "metadata": {},
   "outputs": [],
   "source": []
  },
  {
   "cell_type": "code",
   "execution_count": 11,
   "id": "d3598659-80e2-4789-8836-c429b0c29f98",
   "metadata": {},
   "outputs": [
    {
     "ename": "TypeError",
     "evalue": "can only concatenate str (not \"int\") to str",
     "output_type": "error",
     "traceback": [
      "\u001b[1;31m---------------------------------------------------------------------------\u001b[0m",
      "\u001b[1;31mTypeError\u001b[0m                                 Traceback (most recent call last)",
      "Cell \u001b[1;32mIn[11], line 1\u001b[0m\n\u001b[1;32m----> 1\u001b[0m x \u001b[38;5;241m=\u001b[39m \u001b[38;5;124m'\u001b[39m\u001b[38;5;124mIce Cream \u001b[39m\u001b[38;5;124m'\u001b[39m \u001b[38;5;241m+\u001b[39m \u001b[38;5;241m2\u001b[39m\n\u001b[0;32m      2\u001b[0m \u001b[38;5;28mprint\u001b[39m(x)\n",
      "\u001b[1;31mTypeError\u001b[0m: can only concatenate str (not \"int\") to str"
     ]
    }
   ],
   "source": [
    "x = 'Ice Cream ' + 2\n",
    "print(x)"
   ]
  },
  {
   "cell_type": "code",
   "execution_count": 12,
   "id": "75e9642e-133b-40aa-b813-312e605d3a01",
   "metadata": {},
   "outputs": [
    {
     "name": "stdout",
     "output_type": "stream",
     "text": [
      "5\n"
     ]
    }
   ],
   "source": [
    " y = 2 + 3\n",
    "print(y)"
   ]
  },
  {
   "cell_type": "code",
   "execution_count": 14,
   "id": "7620882d-0deb-4080-989f-6d45b2bbae17",
   "metadata": {},
   "outputs": [
    {
     "name": "stdout",
     "output_type": "stream",
     "text": [
      "Ice Cream Is My Fav\n"
     ]
    }
   ],
   "source": [
    "x = 'Ice '\n",
    "y = 'Cream '\n",
    "z = 'Is My Fav'\n",
    "print(x+y+z)"
   ]
  },
  {
   "cell_type": "code",
   "execution_count": 15,
   "id": "6e1c3762-d104-4678-a1c1-3ceeee1e538a",
   "metadata": {},
   "outputs": [
    {
     "name": "stdout",
     "output_type": "stream",
     "text": [
      "15\n"
     ]
    }
   ],
   "source": [
    "x = 5\n",
    "y = 2\n",
    "z = 8\n",
    "print(x+y+z)"
   ]
  },
  {
   "cell_type": "code",
   "execution_count": 16,
   "id": "22711096-e4e9-4cf2-9cd9-01cecc71f327",
   "metadata": {},
   "outputs": [
    {
     "name": "stdout",
     "output_type": "stream",
     "text": [
      "Ice Cream  2\n"
     ]
    }
   ],
   "source": [
    "x = 'Ice '\n",
    "y = 'Cream '\n",
    "z = 2\n",
    "print(x+y,z)"
   ]
  },
  {
   "cell_type": "code",
   "execution_count": null,
   "id": "a900bcdf-057b-414a-a1cc-1f37a206aab0",
   "metadata": {},
   "outputs": [],
   "source": []
  },
  {
   "cell_type": "markdown",
   "id": "c17378a7-2a65-4163-955f-d019532d6b73",
   "metadata": {},
   "source": [
    "# Data Types"
   ]
  },
  {
   "cell_type": "code",
   "execution_count": 19,
   "id": "0aded3e2-b2cb-469e-8162-eb05efa3c8a2",
   "metadata": {},
   "outputs": [
    {
     "data": {
      "text/plain": [
       "int"
      ]
     },
     "execution_count": 19,
     "metadata": {},
     "output_type": "execute_result"
    }
   ],
   "source": [
    "type(12)\n",
    "type(-12)\n",
    "type( -12 + 100)"
   ]
  },
  {
   "cell_type": "code",
   "execution_count": 20,
   "id": "06b1d219-132a-4472-88fd-0ed9fd3b09f5",
   "metadata": {},
   "outputs": [
    {
     "data": {
      "text/plain": [
       "float"
      ]
     },
     "execution_count": 20,
     "metadata": {},
     "output_type": "execute_result"
    }
   ],
   "source": [
    " type(12 + 10.5)"
   ]
  },
  {
   "cell_type": "code",
   "execution_count": 22,
   "id": "213a3187-d793-4460-b284-f2b68038215e",
   "metadata": {},
   "outputs": [
    {
     "data": {
      "text/plain": [
       "complex"
      ]
     },
     "execution_count": 22,
     "metadata": {},
     "output_type": "execute_result"
    }
   ],
   "source": [
    "# This is Complex Data Type (Only J) will work.\n",
    "type(12 +3j)"
   ]
  },
  {
   "cell_type": "code",
   "execution_count": 25,
   "id": "2676c917-2159-4d06-abfa-18ab45024441",
   "metadata": {},
   "outputs": [
    {
     "data": {
      "text/plain": [
       "bool"
      ]
     },
     "execution_count": 25,
     "metadata": {},
     "output_type": "execute_result"
    }
   ],
   "source": [
    "# Boolean\n",
    "type(True)\n",
    "type(False)"
   ]
  },
  {
   "cell_type": "code",
   "execution_count": 26,
   "id": "846a5c37-0e9e-4faa-8ecd-cd1c2f126769",
   "metadata": {},
   "outputs": [
    {
     "data": {
      "text/plain": [
       "bool"
      ]
     },
     "execution_count": 26,
     "metadata": {},
     "output_type": "execute_result"
    }
   ],
   "source": [
    "type( 1 > 5)"
   ]
  },
  {
   "cell_type": "code",
   "execution_count": 28,
   "id": "5919da5e-60e0-4770-a0bd-e7188b75a5c6",
   "metadata": {},
   "outputs": [
    {
     "data": {
      "text/plain": [
       "'\\nHelloo This is Triple Quote.\\nIt can be used for multi-line\\n'"
      ]
     },
     "execution_count": 28,
     "metadata": {},
     "output_type": "execute_result"
    }
   ],
   "source": [
    "# Strings\n",
    "'Single Quote'\n",
    "\"Double Quote\"\n",
    "\"\"\"\n",
    "Helloo This is Triple Quote.\n",
    "It can be used for multi-line\n",
    "\"\"\""
   ]
  },
  {
   "cell_type": "code",
   "execution_count": 30,
   "id": "41270211-5a16-464e-9c8f-adc605fc66b8",
   "metadata": {},
   "outputs": [
    {
     "name": "stdout",
     "output_type": "stream",
     "text": [
      "Hello\n"
     ]
    }
   ],
   "source": [
    "a = \"Helloo World\"\n",
    "print(a[:5])"
   ]
  },
  {
   "cell_type": "code",
   "execution_count": 31,
   "id": "d4a634ab-9359-4def-ac3e-65a627d48a1b",
   "metadata": {},
   "outputs": [
    {
     "name": "stdout",
     "output_type": "stream",
     "text": [
      "o\n"
     ]
    }
   ],
   "source": [
    "print(a[5])"
   ]
  },
  {
   "cell_type": "code",
   "execution_count": 32,
   "id": "c54e7e5b-8f0f-4ee6-91a3-7d613d28fa64",
   "metadata": {},
   "outputs": [
    {
     "name": "stdout",
     "output_type": "stream",
     "text": [
      "l\n"
     ]
    }
   ],
   "source": [
    "print(a[-2])"
   ]
  },
  {
   "cell_type": "code",
   "execution_count": 33,
   "id": "ceeee2af-e30b-4012-b94f-6ceaf10657e7",
   "metadata": {},
   "outputs": [
    {
     "name": "stdout",
     "output_type": "stream",
     "text": [
      "llo\n"
     ]
    }
   ],
   "source": [
    "print(a[2:5])"
   ]
  },
  {
   "cell_type": "code",
   "execution_count": 34,
   "id": "7057dc81-ed25-43e8-95ef-1f09668adfe0",
   "metadata": {},
   "outputs": [
    {
     "data": {
      "text/plain": [
       "'Helloo WorldHelloo WorldHelloo World'"
      ]
     },
     "execution_count": 34,
     "metadata": {},
     "output_type": "execute_result"
    }
   ],
   "source": [
    "a * 3"
   ]
  },
  {
   "cell_type": "code",
   "execution_count": 35,
   "id": "1a4549e6-7f66-4f2b-863e-e7d6c67816cb",
   "metadata": {},
   "outputs": [
    {
     "data": {
      "text/plain": [
       "'Helloo WorldHelloo World'"
      ]
     },
     "execution_count": 35,
     "metadata": {},
     "output_type": "execute_result"
    }
   ],
   "source": [
    "a + a"
   ]
  },
  {
   "cell_type": "markdown",
   "id": "0273d682-3646-4412-991c-cd2bb992e6fa",
   "metadata": {},
   "source": [
    "# List []\n",
    "# We can have any data type within lists, we can even have a list inside a list\n",
    "# List are Changeable, We can update the list after creating them"
   ]
  },
  {
   "cell_type": "code",
   "execution_count": 36,
   "id": "fb6393d7-f21c-43fb-9418-9acda4048422",
   "metadata": {},
   "outputs": [
    {
     "data": {
      "text/plain": [
       "[1, 2, 3]"
      ]
     },
     "execution_count": 36,
     "metadata": {},
     "output_type": "execute_result"
    }
   ],
   "source": [
    "\n",
    "[1,2,3]"
   ]
  },
  {
   "cell_type": "code",
   "execution_count": 37,
   "id": "b6835ab7-f4b1-44a0-83dc-bf27af90a3d4",
   "metadata": {},
   "outputs": [
    {
     "data": {
      "text/plain": [
       "[1, 'Yuvraj', 7]"
      ]
     },
     "execution_count": 37,
     "metadata": {},
     "output_type": "execute_result"
    }
   ],
   "source": [
    "[1,'Yuvraj',7]"
   ]
  },
  {
   "cell_type": "code",
   "execution_count": 39,
   "id": "f87a891b-69bd-49ba-938d-6d00b33eeb1f",
   "metadata": {},
   "outputs": [],
   "source": [
    "li = [1,'My name is My Name is',['Slim','Shaddy'],9]"
   ]
  },
  {
   "cell_type": "code",
   "execution_count": 40,
   "id": "3273c9b7-1eba-4db5-aeea-bc5e1e7c9d13",
   "metadata": {},
   "outputs": [
    {
     "name": "stdout",
     "output_type": "stream",
     "text": [
      "1\n"
     ]
    }
   ],
   "source": [
    "print(li[0])"
   ]
  },
  {
   "cell_type": "code",
   "execution_count": 42,
   "id": "2033deb5-03bc-4eda-acf1-6b374b7c24fa",
   "metadata": {},
   "outputs": [
    {
     "name": "stdout",
     "output_type": "stream",
     "text": [
      "9\n"
     ]
    }
   ],
   "source": [
    "print(li[3])"
   ]
  },
  {
   "cell_type": "code",
   "execution_count": 44,
   "id": "cb731a4b-3e49-4385-a636-2a34706015a6",
   "metadata": {},
   "outputs": [
    {
     "name": "stdout",
     "output_type": "stream",
     "text": [
      "['Slim', 'Shaddy']\n"
     ]
    }
   ],
   "source": [
    "print(li[2])"
   ]
  },
  {
   "cell_type": "code",
   "execution_count": 47,
   "id": "2ee9cec0-5a81-43d9-afa9-462c9409ceaf",
   "metadata": {},
   "outputs": [
    {
     "data": {
      "text/plain": [
       "['Cookie Monster', 'Chocolate', 'Strawberry', 'Chocochip']"
      ]
     },
     "execution_count": 47,
     "metadata": {},
     "output_type": "execute_result"
    }
   ],
   "source": [
    "ice_cream = ['Cookie Monster','Chocolate','Strawberry']\n",
    "ice_cream.append('Chocochip')\n",
    "ice_cream"
   ]
  },
  {
   "cell_type": "code",
   "execution_count": 50,
   "id": "99e3309d-9954-4b59-86eb-4f0dce0b08c3",
   "metadata": {},
   "outputs": [
    {
     "data": {
      "text/plain": [
       "['Butter Scotch', 'Chocolate', 'Strawberry', 'Chocochip']"
      ]
     },
     "execution_count": 50,
     "metadata": {},
     "output_type": "execute_result"
    }
   ],
   "source": [
    "ice_cream[0] = 'Butter Scotch'\n",
    "ice_cream"
   ]
  },
  {
   "cell_type": "code",
   "execution_count": 58,
   "id": "737313ff-7c98-4059-93c7-c7da84ef86a7",
   "metadata": {},
   "outputs": [
    {
     "data": {
      "text/plain": [
       "'Chocolate'"
      ]
     },
     "execution_count": 58,
     "metadata": {},
     "output_type": "execute_result"
    }
   ],
   "source": [
    "ice_cream_nested = ['Cookie Monster', ['Chocolate','Chocochip'], 'Strawberry']\n",
    "ice_cream_nested\n",
    "ice_cream_nested [0]\n",
    "ice_cream_nested [1]\n",
    "ice_cream_nested [1][0]"
   ]
  },
  {
   "cell_type": "markdown",
   "id": "811f72ab-a02e-4a69-bd2d-b4919525ff52",
   "metadata": {},
   "source": [
    "# Tuple ()\n",
    "# Tuple are immutable i.e It cannot be Updated once created\n",
    "# Tuples are usually used for cities, countries as they do not change"
   ]
  },
  {
   "cell_type": "code",
   "execution_count": 60,
   "id": "e87f91e6-8cda-4913-bb68-b217d6761f6f",
   "metadata": {},
   "outputs": [
    {
     "data": {
      "text/plain": [
       "(1, 2, 3, 2, 1)"
      ]
     },
     "execution_count": 60,
     "metadata": {},
     "output_type": "execute_result"
    }
   ],
   "source": [
    "t = (1,2,3,2,1)\n",
    "t"
   ]
  },
  {
   "cell_type": "code",
   "execution_count": 61,
   "id": "14aae8c7-34a1-4b04-89a5-e475ad43ecdf",
   "metadata": {},
   "outputs": [
    {
     "data": {
      "text/plain": [
       "tuple"
      ]
     },
     "execution_count": 61,
     "metadata": {},
     "output_type": "execute_result"
    }
   ],
   "source": [
    "type(t)"
   ]
  },
  {
   "cell_type": "code",
   "execution_count": 62,
   "id": "5d83c94e-824f-40dc-8f92-544c80cbb87a",
   "metadata": {},
   "outputs": [
    {
     "data": {
      "text/plain": [
       "3"
      ]
     },
     "execution_count": 62,
     "metadata": {},
     "output_type": "execute_result"
    }
   ],
   "source": [
    "t[2]"
   ]
  },
  {
   "cell_type": "code",
   "execution_count": 63,
   "id": "039395b2-fcc8-48ae-ac9f-4f5c45faf9b5",
   "metadata": {},
   "outputs": [
    {
     "ename": "AttributeError",
     "evalue": "'tuple' object has no attribute 'append'",
     "output_type": "error",
     "traceback": [
      "\u001b[1;31m---------------------------------------------------------------------------\u001b[0m",
      "\u001b[1;31mAttributeError\u001b[0m                            Traceback (most recent call last)",
      "Cell \u001b[1;32mIn[63], line 1\u001b[0m\n\u001b[1;32m----> 1\u001b[0m t\u001b[38;5;241m.\u001b[39mappend(\u001b[38;5;241m4\u001b[39m)\n",
      "\u001b[1;31mAttributeError\u001b[0m: 'tuple' object has no attribute 'append'"
     ]
    }
   ],
   "source": [
    "t.append(4)"
   ]
  },
  {
   "cell_type": "markdown",
   "id": "1f0b1646-abf8-4278-8db2-e358f9edcd69",
   "metadata": {},
   "source": [
    "# Sets {}\n",
    "# Somewhat similar to lists and tuple but the difference is that, they do not have duplicate values.\n",
    "# Sets are unordered so they cannot be accessed by index"
   ]
  },
  {
   "cell_type": "code",
   "execution_count": 65,
   "id": "05955200-6585-429f-badd-bff2486787a6",
   "metadata": {},
   "outputs": [
    {
     "data": {
      "text/plain": [
       "{1, 2, 3}"
      ]
     },
     "execution_count": 65,
     "metadata": {},
     "output_type": "execute_result"
    }
   ],
   "source": [
    "daily_pits = {1,2,3}\n",
    "daily_pits"
   ]
  },
  {
   "cell_type": "code",
   "execution_count": 66,
   "id": "0f6b134f-adc8-412e-ae6a-6da0bf8f8962",
   "metadata": {},
   "outputs": [
    {
     "data": {
      "text/plain": [
       "set"
      ]
     },
     "execution_count": 66,
     "metadata": {},
     "output_type": "execute_result"
    }
   ],
   "source": [
    "type(daily_pits)"
   ]
  },
  {
   "cell_type": "code",
   "execution_count": 67,
   "id": "fe9563ce-a157-487a-8204-54feb3fe4a92",
   "metadata": {},
   "outputs": [
    {
     "data": {
      "text/plain": [
       "{1, 2, 8, 31, 67, 90}"
      ]
     },
     "execution_count": 67,
     "metadata": {},
     "output_type": "execute_result"
    }
   ],
   "source": [
    "daily_pits_log = {1,2,31,2,67,8,90,1,1,2,2}\n",
    "daily_pits_log"
   ]
  },
  {
   "cell_type": "code",
   "execution_count": 68,
   "id": "d09c8137-b66c-436b-8189-2ec7489b0862",
   "metadata": {},
   "outputs": [],
   "source": [
    "# Use case - We Can convert list or tuple into set to elimante duplicate values and them compare two sets"
   ]
  },
  {
   "cell_type": "code",
   "execution_count": 74,
   "id": "1e204869-e210-4d01-a403-ebbe759146dd",
   "metadata": {},
   "outputs": [],
   "source": [
    "wifes_daily_pits_log = {1,3,5,7,6,456,4,5,7,2,1,0,7,5}"
   ]
  },
  {
   "cell_type": "code",
   "execution_count": 75,
   "id": "765d0c1a-a169-40b6-ab48-9d091784d63d",
   "metadata": {},
   "outputs": [
    {
     "name": "stdout",
     "output_type": "stream",
     "text": [
      "{0, 1, 2, 67, 3, 4, 5, 6, 8, 7, 456, 90, 31}\n"
     ]
    }
   ],
   "source": [
    "# This will get all unique values between the two sets\n",
    "print(daily_pits_log | wifes_daily_pits_log)"
   ]
  },
  {
   "cell_type": "code",
   "execution_count": 72,
   "id": "bfecc902-7122-48d9-ad6f-34e3dfb3c3e8",
   "metadata": {},
   "outputs": [
    {
     "name": "stdout",
     "output_type": "stream",
     "text": [
      "{1, 2}\n"
     ]
    }
   ],
   "source": [
    "# This will get only the values that matches i.e values that are present in both sets.\n",
    "print(daily_pits_log & wifes_daily_pits_log)"
   ]
  },
  {
   "cell_type": "code",
   "execution_count": 76,
   "id": "af61cf5c-3471-4880-a126-25f0998b6da3",
   "metadata": {},
   "outputs": [
    {
     "name": "stdout",
     "output_type": "stream",
     "text": [
      "{8, 90, 67, 31}\n"
     ]
    }
   ],
   "source": [
    "# This will get only the values from SET-A that does not match the values in SET-B i.e values that are present in both sets.\n",
    "print(daily_pits_log - wifes_daily_pits_log)"
   ]
  },
  {
   "cell_type": "code",
   "execution_count": 77,
   "id": "7120b8ee-a1b8-4401-b437-befce2f62f80",
   "metadata": {},
   "outputs": [
    {
     "name": "stdout",
     "output_type": "stream",
     "text": [
      "{0, 3, 4, 5, 6, 7, 456}\n"
     ]
    }
   ],
   "source": [
    "# This will get only the values from SET-A that does not match the values in SET-B i.e values that are present in both sets.\n",
    "print(wifes_daily_pits_log - daily_pits_log)"
   ]
  },
  {
   "cell_type": "code",
   "execution_count": 78,
   "id": "a6fbd3b4-c5f9-4462-a282-ae3c1592c96f",
   "metadata": {},
   "outputs": [
    {
     "name": "stdout",
     "output_type": "stream",
     "text": [
      "{0, 67, 3, 4, 5, 6, 8, 7, 456, 90, 31}\n"
     ]
    }
   ],
   "source": [
    "#This will get values that are completely unique in both sets.\n",
    "print(wifes_daily_pits_log ^ daily_pits_log)"
   ]
  },
  {
   "cell_type": "code",
   "execution_count": null,
   "id": "2e25d07c-fae4-4e76-aaaf-64ccbf5b3e72",
   "metadata": {},
   "outputs": [],
   "source": []
  },
  {
   "cell_type": "markdown",
   "id": "49c17cdc-6bd8-4612-8054-294be0f51a8f",
   "metadata": {},
   "source": [
    "# Dictionaries\n",
    "# Key/Value Pair\n",
    "\n",
    "# Diff b/w lists and Dictionaries - Is how you call them\n",
    "# We cannot use indexs, rather we use the actual keys \n",
    "\n",
    "# We can update info\n"
   ]
  },
  {
   "cell_type": "code",
   "execution_count": 79,
   "id": "75f683b9-87d0-4355-9896-a752a34f6ff7",
   "metadata": {},
   "outputs": [],
   "source": [
    "dict_cream = {'name' : 'Alex Freberg', 'weekly intake' : 5, 'favorite ice creams' : ['Black Current','Cookie Monster']}"
   ]
  },
  {
   "cell_type": "code",
   "execution_count": 80,
   "id": "61fc3d1c-470a-4fc2-8639-945cb41a23b3",
   "metadata": {},
   "outputs": [
    {
     "data": {
      "text/plain": [
       "dict"
      ]
     },
     "execution_count": 80,
     "metadata": {},
     "output_type": "execute_result"
    }
   ],
   "source": [
    "type(dict_cream)"
   ]
  },
  {
   "cell_type": "code",
   "execution_count": 81,
   "id": "7eeca17d-181e-4d7c-9583-7b1206134e65",
   "metadata": {},
   "outputs": [
    {
     "name": "stdout",
     "output_type": "stream",
     "text": [
      "{'name': 'Alex Freberg', 'weekly intake': 5, 'favorite ice creams': ['Black Current', 'Cookie Monster']}\n"
     ]
    }
   ],
   "source": [
    "print(dict_cream)"
   ]
  },
  {
   "cell_type": "code",
   "execution_count": 82,
   "id": "24a4e12e-f6a0-420d-82dd-2418d28e9b6d",
   "metadata": {},
   "outputs": [
    {
     "data": {
      "text/plain": [
       "dict_values(['Alex Freberg', 5, ['Black Current', 'Cookie Monster']])"
      ]
     },
     "execution_count": 82,
     "metadata": {},
     "output_type": "execute_result"
    }
   ],
   "source": [
    "dict_cream.values()"
   ]
  },
  {
   "cell_type": "code",
   "execution_count": 83,
   "id": "52d1dd71-5972-4c82-9dda-6f8e4446e7eb",
   "metadata": {},
   "outputs": [
    {
     "data": {
      "text/plain": [
       "dict_keys(['name', 'weekly intake', 'favorite ice creams'])"
      ]
     },
     "execution_count": 83,
     "metadata": {},
     "output_type": "execute_result"
    }
   ],
   "source": [
    "dict_cream.keys()"
   ]
  },
  {
   "cell_type": "code",
   "execution_count": 84,
   "id": "02547e29-8766-4e28-a35d-fff0c5c4e378",
   "metadata": {},
   "outputs": [
    {
     "data": {
      "text/plain": [
       "dict_items([('name', 'Alex Freberg'), ('weekly intake', 5), ('favorite ice creams', ['Black Current', 'Cookie Monster'])])"
      ]
     },
     "execution_count": 84,
     "metadata": {},
     "output_type": "execute_result"
    }
   ],
   "source": [
    "dict_cream.items()"
   ]
  },
  {
   "cell_type": "code",
   "execution_count": 86,
   "id": "a5f59ce0-f5f9-45e7-8def-4db7e5275874",
   "metadata": {},
   "outputs": [
    {
     "data": {
      "text/plain": [
       "'Alex Freberg'"
      ]
     },
     "execution_count": 86,
     "metadata": {},
     "output_type": "execute_result"
    }
   ],
   "source": [
    "dict_cream['name']"
   ]
  },
  {
   "cell_type": "code",
   "execution_count": 87,
   "id": "7e15602b-0323-417e-af20-1dfc45e8b5c2",
   "metadata": {},
   "outputs": [
    {
     "name": "stdout",
     "output_type": "stream",
     "text": [
      "{'name': 'Yuvraj Sood', 'weekly intake': 5, 'favorite ice creams': ['Black Current', 'Cookie Monster']}\n"
     ]
    }
   ],
   "source": [
    "dict_cream['name'] = 'Yuvraj Sood'\n",
    "print(dict_cream)"
   ]
  },
  {
   "cell_type": "code",
   "execution_count": 89,
   "id": "a7aae17e-247f-4b4c-b15b-93271d2f02a7",
   "metadata": {},
   "outputs": [
    {
     "name": "stdout",
     "output_type": "stream",
     "text": [
      "{'name': 'Yuvraj Sood', 'weekly intake': 4, 'favorite ice creams': ['Black Current', 'Strawberry with pieces']}\n"
     ]
    }
   ],
   "source": [
    "dict_cream.update({'name': 'Yuvraj Sood', 'weekly intake': 4, 'favorite ice creams': ['Black Current', 'Strawberry with pieces']})\n",
    "print(dict_cream)"
   ]
  },
  {
   "cell_type": "code",
   "execution_count": 90,
   "id": "caf199f1-d911-4378-88f0-51b47d14781f",
   "metadata": {},
   "outputs": [
    {
     "name": "stdout",
     "output_type": "stream",
     "text": [
      "{'name': 'Yuvraj Sood', 'favorite ice creams': ['Black Current', 'Strawberry with pieces']}\n"
     ]
    }
   ],
   "source": [
    "del dict_cream['weekly intake']\n",
    "print(dict_cream)"
   ]
  },
  {
   "cell_type": "markdown",
   "id": "663d2153-c8ef-4be6-87e7-ce1e7471cea9",
   "metadata": {},
   "source": [
    "# Comparison Operator"
   ]
  },
  {
   "cell_type": "code",
   "execution_count": 91,
   "id": "937516a1-1458-4544-88e5-6defac8d66b8",
   "metadata": {},
   "outputs": [
    {
     "data": {
      "text/plain": [
       "False"
      ]
     },
     "execution_count": 91,
     "metadata": {},
     "output_type": "execute_result"
    }
   ],
   "source": [
    "10==50"
   ]
  },
  {
   "cell_type": "code",
   "execution_count": 92,
   "id": "730d5cdc-dff4-430c-a1e2-fa4bc2632382",
   "metadata": {},
   "outputs": [
    {
     "data": {
      "text/plain": [
       "True"
      ]
     },
     "execution_count": 92,
     "metadata": {},
     "output_type": "execute_result"
    }
   ],
   "source": [
    "10!=50"
   ]
  },
  {
   "cell_type": "code",
   "execution_count": 93,
   "id": "b24e8fe3-930b-46dd-8c82-cd68959c7b47",
   "metadata": {},
   "outputs": [
    {
     "data": {
      "text/plain": [
       "False"
      ]
     },
     "execution_count": 93,
     "metadata": {},
     "output_type": "execute_result"
    }
   ],
   "source": [
    "'Chocolate' == 'chocolate'"
   ]
  },
  {
   "cell_type": "code",
   "execution_count": 94,
   "id": "3c13dd47-3c79-4c44-b7ce-6612ab73414d",
   "metadata": {},
   "outputs": [
    {
     "data": {
      "text/plain": [
       "True"
      ]
     },
     "execution_count": 94,
     "metadata": {},
     "output_type": "execute_result"
    }
   ],
   "source": [
    "'Chocolate' == 'Chocolate'"
   ]
  },
  {
   "cell_type": "code",
   "execution_count": 95,
   "id": "1f4e3e77-29cb-4bde-b554-55848bbae54f",
   "metadata": {},
   "outputs": [
    {
     "data": {
      "text/plain": [
       "False"
      ]
     },
     "execution_count": 95,
     "metadata": {},
     "output_type": "execute_result"
    }
   ],
   "source": [
    "10 < 10"
   ]
  },
  {
   "cell_type": "markdown",
   "id": "3d1f47ef-c0ce-4106-abb3-6655d0b0f857",
   "metadata": {},
   "source": [
    "# Logical Operator"
   ]
  },
  {
   "cell_type": "code",
   "execution_count": 96,
   "id": "a82c5cec-f350-439a-b277-b79d91462983",
   "metadata": {},
   "outputs": [
    {
     "data": {
      "text/plain": [
       "True"
      ]
     },
     "execution_count": 96,
     "metadata": {},
     "output_type": "execute_result"
    }
   ],
   "source": [
    "(70>50) and (50>10)"
   ]
  },
  {
   "cell_type": "code",
   "execution_count": 97,
   "id": "cbd5ab79-0c4e-4436-910b-3b439b6f142c",
   "metadata": {},
   "outputs": [
    {
     "data": {
      "text/plain": [
       "True"
      ]
     },
     "execution_count": 97,
     "metadata": {},
     "output_type": "execute_result"
    }
   ],
   "source": [
    "(70>50) or (5>10)"
   ]
  },
  {
   "cell_type": "code",
   "execution_count": 98,
   "id": "28e53d2a-de45-421a-b5ff-39880da80d63",
   "metadata": {},
   "outputs": [
    {
     "data": {
      "text/plain": [
       "False"
      ]
     },
     "execution_count": 98,
     "metadata": {},
     "output_type": "execute_result"
    }
   ],
   "source": [
    "(70>50) and (5>10)"
   ]
  },
  {
   "cell_type": "code",
   "execution_count": 99,
   "id": "3112b0d9-22c2-4648-a20e-62df0296a1c3",
   "metadata": {},
   "outputs": [
    {
     "data": {
      "text/plain": [
       "True"
      ]
     },
     "execution_count": 99,
     "metadata": {},
     "output_type": "execute_result"
    }
   ],
   "source": [
    "(70>50) and not(5>10)"
   ]
  },
  {
   "cell_type": "markdown",
   "id": "d387bad9-e102-4cb1-b032-866e6182aa59",
   "metadata": {},
   "source": [
    "# Membership Operator"
   ]
  },
  {
   "cell_type": "code",
   "execution_count": 100,
   "id": "d7da273b-5281-480b-863b-c876465d7cd5",
   "metadata": {},
   "outputs": [
    {
     "data": {
      "text/plain": [
       "True"
      ]
     },
     "execution_count": 100,
     "metadata": {},
     "output_type": "execute_result"
    }
   ],
   "source": [
    "ice_cream = 'I love Chocolate Ice Cream'\n",
    "'love' in ice_cream"
   ]
  },
  {
   "cell_type": "code",
   "execution_count": 101,
   "id": "2ad74d00-9241-49e6-897c-1ce305a94191",
   "metadata": {},
   "outputs": [
    {
     "data": {
      "text/plain": [
       "False"
      ]
     },
     "execution_count": 101,
     "metadata": {},
     "output_type": "execute_result"
    }
   ],
   "source": [
    "scoops = [1,2,3,4,5]\n",
    "6 in scoops"
   ]
  },
  {
   "cell_type": "code",
   "execution_count": 102,
   "id": "cb580a8a-8be7-4129-954c-795b5d1fdc08",
   "metadata": {},
   "outputs": [
    {
     "data": {
      "text/plain": [
       "True"
      ]
     },
     "execution_count": 102,
     "metadata": {},
     "output_type": "execute_result"
    }
   ],
   "source": [
    "scoops = [1,2,3,4,5]\n",
    "6 not in scoops"
   ]
  },
  {
   "cell_type": "markdown",
   "id": "7f20a3d7-aedf-4db1-8310-ecff822b3d4e",
   "metadata": {},
   "source": [
    "# If Else "
   ]
  },
  {
   "cell_type": "code",
   "execution_count": 103,
   "id": "b94664c3-2f72-4a57-bb81-c6b298833f69",
   "metadata": {},
   "outputs": [
    {
     "name": "stdout",
     "output_type": "stream",
     "text": [
      "yes\n"
     ]
    }
   ],
   "source": [
    "if(25>10) :\n",
    "    print('yes')"
   ]
  },
  {
   "cell_type": "code",
   "execution_count": 105,
   "id": "d08c4e4b-ea8f-4c24-9bbc-9741497621e7",
   "metadata": {},
   "outputs": [
    {
     "name": "stdout",
     "output_type": "stream",
     "text": [
      "yes 2\n"
     ]
    }
   ],
   "source": [
    "if(25<10):\n",
    "    print('yes')\n",
    "elif(25<20):\n",
    "    print('yes 1')\n",
    "elif(25<=25):        \n",
    "    print('yes 2')\n",
    "else:\n",
    "    print('no')"
   ]
  },
  {
   "cell_type": "code",
   "execution_count": 106,
   "id": "c69aa071-2395-4fdd-ac69-f930749c5712",
   "metadata": {},
   "outputs": [
    {
     "name": "stdout",
     "output_type": "stream",
     "text": [
      "No\n"
     ]
    }
   ],
   "source": [
    "print('yes') if (10>30) else print('No')"
   ]
  },
  {
   "cell_type": "markdown",
   "id": "21080de0-cea6-4953-90a7-0a44302ff69d",
   "metadata": {},
   "source": [
    "# Loops"
   ]
  },
  {
   "cell_type": "code",
   "execution_count": 108,
   "id": "23ab4c83-ddaa-4f0a-b8e8-407fd8f82260",
   "metadata": {},
   "outputs": [
    {
     "name": "stdout",
     "output_type": "stream",
     "text": [
      "1\n",
      "2\n",
      "3\n",
      "4\n",
      "5\n"
     ]
    }
   ],
   "source": [
    "# for loop\n",
    "\n",
    "numbers = [1,2,3,4,5]\n",
    "for n in numbers:\n",
    "    print (n)"
   ]
  },
  {
   "cell_type": "code",
   "execution_count": 109,
   "id": "9d642805-8b94-4c22-bb21-b3b9fa202ec7",
   "metadata": {},
   "outputs": [
    {
     "name": "stdout",
     "output_type": "stream",
     "text": [
      "1\n",
      "4\n",
      "9\n",
      "16\n",
      "25\n"
     ]
    }
   ],
   "source": [
    "\n",
    "numbers = [1,2,3,4,5]\n",
    "for n in numbers:\n",
    "    print (n * n)"
   ]
  },
  {
   "cell_type": "code",
   "execution_count": 111,
   "id": "353cbb74-1dc4-4a76-a1ac-4882c1ea8360",
   "metadata": {},
   "outputs": [
    {
     "name": "stdout",
     "output_type": "stream",
     "text": [
      "Jelly\n",
      "Jelly\n",
      "Jelly\n",
      "Jelly\n",
      "Jelly\n"
     ]
    }
   ],
   "source": [
    "for n in numbers:\n",
    "    print('Jelly')"
   ]
  },
  {
   "cell_type": "code",
   "execution_count": 112,
   "id": "daef95a5-6566-4b88-8b72-5ad2089930fe",
   "metadata": {},
   "outputs": [],
   "source": [
    "# looping through dict\n",
    "ice_cream_dict = {'name' : 'Alex Freberg', 'weekly intake': 5, 'favorite ice cream' : ['MCC','Chocolate']}"
   ]
  },
  {
   "cell_type": "code",
   "execution_count": 113,
   "id": "5cece5c0-faea-43d4-bd9e-a293b8cc8910",
   "metadata": {},
   "outputs": [
    {
     "name": "stdout",
     "output_type": "stream",
     "text": [
      "Alex Freberg\n",
      "5\n",
      "['MCC', 'Chocolate']\n"
     ]
    }
   ],
   "source": [
    "for cream in ice_cream_dict.values():\n",
    "    print(cream)"
   ]
  },
  {
   "cell_type": "code",
   "execution_count": 114,
   "id": "784c9109-71eb-42d4-8ef4-675ba650f911",
   "metadata": {},
   "outputs": [
    {
     "name": "stdout",
     "output_type": "stream",
     "text": [
      "name  ->  Alex Freberg\n",
      "weekly intake  ->  5\n",
      "favorite ice cream  ->  ['MCC', 'Chocolate']\n"
     ]
    }
   ],
   "source": [
    "for key, value in ice_cream_dict.items():\n",
    "    print(key, ' -> ', value)"
   ]
  },
  {
   "cell_type": "code",
   "execution_count": 118,
   "id": "9d1ec740-068b-4ff0-b4de-b0af68d99ff3",
   "metadata": {},
   "outputs": [],
   "source": [
    "# nested for loops\n",
    "flavours = ['Vanilla','Chocolate','Cookie Dough']\n",
    "toppings = ['Hot Fudge','Oreos','Marshmallows']"
   ]
  },
  {
   "cell_type": "code",
   "execution_count": 119,
   "id": "821e5266-89d6-49ee-a0fb-a2a3fae999bd",
   "metadata": {},
   "outputs": [
    {
     "name": "stdout",
     "output_type": "stream",
     "text": [
      "Vanilla topped with  Hot Fudge\n",
      "Vanilla topped with  Oreos\n",
      "Vanilla topped with  Marshmallows\n",
      "Chocolate topped with  Hot Fudge\n",
      "Chocolate topped with  Oreos\n",
      "Chocolate topped with  Marshmallows\n",
      "Cookie Dough topped with  Hot Fudge\n",
      "Cookie Dough topped with  Oreos\n",
      "Cookie Dough topped with  Marshmallows\n"
     ]
    }
   ],
   "source": [
    "for one in flavours :\n",
    "    for two in toppings:\n",
    "        print(one, 'topped with ', two)"
   ]
  },
  {
   "cell_type": "code",
   "execution_count": 122,
   "id": "b890b4f6-68b1-474e-b039-0720fddbab72",
   "metadata": {},
   "outputs": [
    {
     "name": "stdout",
     "output_type": "stream",
     "text": [
      "1\n",
      "2\n",
      "3\n",
      "4\n"
     ]
    }
   ],
   "source": [
    "# While Loops\n",
    "number = 1\n",
    "while number < 5:\n",
    "    print(number)\n",
    "    number=number + 1"
   ]
  },
  {
   "cell_type": "code",
   "execution_count": 123,
   "id": "1b673d99-b516-4fe4-a4ba-4a6a2d70501a",
   "metadata": {},
   "outputs": [
    {
     "name": "stdout",
     "output_type": "stream",
     "text": [
      "1\n",
      "2\n",
      "3\n"
     ]
    }
   ],
   "source": [
    "# While Loops\n",
    "number = 1\n",
    "while number < 5:\n",
    "    print(number)\n",
    "    if(number == 3):\n",
    "        break\n",
    "    number=number + 1"
   ]
  },
  {
   "cell_type": "code",
   "execution_count": 124,
   "id": "6a2002f4-a0ff-4033-b71a-445ce67008b7",
   "metadata": {},
   "outputs": [
    {
     "name": "stdout",
     "output_type": "stream",
     "text": [
      "1\n",
      "2\n",
      "3\n",
      "4\n",
      "No Longer < 5\n"
     ]
    }
   ],
   "source": [
    "# While Loops\n",
    "number = 1\n",
    "while number < 5:\n",
    "    print(number)\n",
    "    if(number == 6):\n",
    "        break\n",
    "    number=number + 1\n",
    "else:\n",
    "    print('No Longer < 5')"
   ]
  },
  {
   "cell_type": "code",
   "execution_count": 127,
   "id": "01c0c1a7-3907-42b0-87b0-c54046051c13",
   "metadata": {},
   "outputs": [
    {
     "name": "stdout",
     "output_type": "stream",
     "text": [
      "2\n",
      "4\n",
      "5\n",
      "No Longer < 5\n"
     ]
    }
   ],
   "source": [
    "# While Loops\n",
    "number = 1\n",
    "while number < 5:\n",
    "    number=number + 1\n",
    "    if(number == 3):\n",
    "        continue\n",
    "    print(number)\n",
    "else:\n",
    "    print('No Longer < 5')"
   ]
  },
  {
   "cell_type": "markdown",
   "id": "d37831c5-ef14-45cd-8f8f-035b20e172f4",
   "metadata": {},
   "source": [
    "# Functions"
   ]
  },
  {
   "cell_type": "code",
   "execution_count": 2,
   "id": "1a6fdb23-37dd-4093-9bd5-8d7b6548fd94",
   "metadata": {},
   "outputs": [],
   "source": [
    "def first_func():\n",
    "    print(\"Print Function within Func\")"
   ]
  },
  {
   "cell_type": "code",
   "execution_count": 3,
   "id": "1142aef8-b50d-4a62-bfd8-ceb58c817066",
   "metadata": {},
   "outputs": [
    {
     "name": "stdout",
     "output_type": "stream",
     "text": [
      "Print Function within Func\n"
     ]
    }
   ],
   "source": [
    "first_func()"
   ]
  },
  {
   "cell_type": "code",
   "execution_count": 4,
   "id": "4341ce4f-b374-418a-985a-371195ab1c16",
   "metadata": {},
   "outputs": [],
   "source": [
    "def number_squared(n):\n",
    "    print(n**2)"
   ]
  },
  {
   "cell_type": "code",
   "execution_count": 5,
   "id": "842a0bb2-4a82-4201-ba18-9c63a90bb4a9",
   "metadata": {},
   "outputs": [
    {
     "name": "stdout",
     "output_type": "stream",
     "text": [
      "16\n"
     ]
    }
   ],
   "source": [
    "number_squared(4)"
   ]
  },
  {
   "cell_type": "code",
   "execution_count": 6,
   "id": "5a985892-b137-477a-b746-cd3035045c0c",
   "metadata": {},
   "outputs": [],
   "source": [
    "def number_squared(num,power):\n",
    "    print(num**power)"
   ]
  },
  {
   "cell_type": "code",
   "execution_count": 8,
   "id": "9cc43da9-48fa-4553-ad05-9bb3fc1aabd7",
   "metadata": {},
   "outputs": [
    {
     "name": "stdout",
     "output_type": "stream",
     "text": [
      "125\n"
     ]
    }
   ],
   "source": [
    "number_squared(5,3)"
   ]
  },
  {
   "cell_type": "code",
   "execution_count": 14,
   "id": "ec7427cd-d50b-4759-be1d-b5fae39a8b57",
   "metadata": {},
   "outputs": [],
   "source": [
    "args_tuple = (5,6,1,2,8)\n",
    "\n",
    "def number_agrs(*number):\n",
    "    print(number[0]*number[1])"
   ]
  },
  {
   "cell_type": "code",
   "execution_count": 10,
   "id": "ae85d411-335a-4f92-83c1-f7decc437b6a",
   "metadata": {},
   "outputs": [
    {
     "name": "stdout",
     "output_type": "stream",
     "text": [
      "30\n"
     ]
    }
   ],
   "source": [
    "number_agrs(5,6)"
   ]
  },
  {
   "cell_type": "code",
   "execution_count": 11,
   "id": "9493211a-6b58-42ab-8148-1bea1a13fb1d",
   "metadata": {},
   "outputs": [
    {
     "data": {
      "text/plain": [
       "5"
      ]
     },
     "execution_count": 11,
     "metadata": {},
     "output_type": "execute_result"
    }
   ],
   "source": [
    "5"
   ]
  },
  {
   "cell_type": "code",
   "execution_count": 15,
   "id": "6835ca8c-9f84-4741-bf62-5c3e70f55f69",
   "metadata": {},
   "outputs": [
    {
     "name": "stdout",
     "output_type": "stream",
     "text": [
      "30\n"
     ]
    }
   ],
   "source": [
    "number_agrs(*args_tuple)"
   ]
  },
  {
   "cell_type": "code",
   "execution_count": 17,
   "id": "771169b4-930c-4c33-9931-5010ecb13829",
   "metadata": {},
   "outputs": [
    {
     "name": "stdout",
     "output_type": "stream",
     "text": [
      "243\n"
     ]
    }
   ],
   "source": [
    "number_squared(power = 5, num = 3)"
   ]
  },
  {
   "cell_type": "code",
   "execution_count": 22,
   "id": "94e5e7a7-d087-4593-ad20-5bdd98842cfe",
   "metadata": {},
   "outputs": [],
   "source": [
    "def number_kwagr(**number):\n",
    "    print('My number is : ' + number['integer'] + ' My Other Number: ' + number['integer2'])"
   ]
  },
  {
   "cell_type": "code",
   "execution_count": 23,
   "id": "7194d7ca-35d6-428a-b70f-68f484ff57cb",
   "metadata": {},
   "outputs": [
    {
     "name": "stdout",
     "output_type": "stream",
     "text": [
      "My number is : 2309 My Other Number: 349\n"
     ]
    }
   ],
   "source": [
    "number_kwagr(integer = '2309',integer2 = '349')"
   ]
  },
  {
   "cell_type": "markdown",
   "id": "59fb73a9-6a0a-482a-b5f8-52ef4f8435ba",
   "metadata": {},
   "source": [
    "|# Converting Data Types"
   ]
  },
  {
   "cell_type": "code",
   "execution_count": 24,
   "id": "31b6e4d9-2fb4-4a66-a43e-4ce953bd26cd",
   "metadata": {},
   "outputs": [
    {
     "data": {
      "text/plain": [
       "int"
      ]
     },
     "execution_count": 24,
     "metadata": {},
     "output_type": "execute_result"
    }
   ],
   "source": [
    "n = 7\n",
    "type(n)"
   ]
  },
  {
   "cell_type": "code",
   "execution_count": 25,
   "id": "fa1856d0-b206-442b-a64a-bc507cff12c6",
   "metadata": {},
   "outputs": [
    {
     "data": {
      "text/plain": [
       "str"
      ]
     },
     "execution_count": 25,
     "metadata": {},
     "output_type": "execute_result"
    }
   ],
   "source": [
    "n_str='7'\n",
    "type(n_str)"
   ]
  },
  {
   "cell_type": "code",
   "execution_count": 29,
   "id": "ba089ac4-d096-423b-a660-6e87ba648e82",
   "metadata": {},
   "outputs": [
    {
     "name": "stdout",
     "output_type": "stream",
     "text": [
      "14\n"
     ]
    }
   ],
   "source": [
    "sum = n + int(n_str)\n",
    "print(sum)"
   ]
  },
  {
   "cell_type": "code",
   "execution_count": 30,
   "id": "2fa3286a-9900-4dfd-b654-b98da22ab444",
   "metadata": {},
   "outputs": [
    {
     "data": {
      "text/plain": [
       "list"
      ]
     },
     "execution_count": 30,
     "metadata": {},
     "output_type": "execute_result"
    }
   ],
   "source": [
    "list = [1,2,3]\n",
    "type(list)"
   ]
  },
  {
   "cell_type": "code",
   "execution_count": 32,
   "id": "b9f472dc-4c2c-4490-9fb7-67f974c27cc3",
   "metadata": {},
   "outputs": [
    {
     "data": {
      "text/plain": [
       "tuple"
      ]
     },
     "execution_count": 32,
     "metadata": {},
     "output_type": "execute_result"
    }
   ],
   "source": [
    "type(tuple(list))"
   ]
  },
  {
   "cell_type": "code",
   "execution_count": 33,
   "id": "30a46b93-ded6-49ec-9644-aebe2c0696da",
   "metadata": {},
   "outputs": [],
   "source": [
    "list=[1,2,3,3,2,1,2,2,1,1,1,3]"
   ]
  },
  {
   "cell_type": "code",
   "execution_count": 34,
   "id": "a7a58e54-c297-461a-9592-75b9c1b9d164",
   "metadata": {},
   "outputs": [
    {
     "data": {
      "text/plain": [
       "{1, 2, 3}"
      ]
     },
     "execution_count": 34,
     "metadata": {},
     "output_type": "execute_result"
    }
   ],
   "source": [
    "set(list)"
   ]
  },
  {
   "cell_type": "code",
   "execution_count": 36,
   "id": "d31aabc5-48bf-41f1-9e24-fb15b07f76f3",
   "metadata": {},
   "outputs": [
    {
     "data": {
      "text/plain": [
       "dict"
      ]
     },
     "execution_count": 36,
     "metadata": {},
     "output_type": "execute_result"
    }
   ],
   "source": [
    "dict = {'name': 'Alex','age': 28, 'hair': 'N/A'}\n",
    "type(dict)"
   ]
  },
  {
   "cell_type": "code",
   "execution_count": 37,
   "id": "499b0396-38f3-4ea7-909c-031a7f4cf33c",
   "metadata": {},
   "outputs": [
    {
     "data": {
      "text/plain": [
       "dict_items([('name', 'Alex'), ('age', 28), ('hair', 'N/A')])"
      ]
     },
     "execution_count": 37,
     "metadata": {},
     "output_type": "execute_result"
    }
   ],
   "source": [
    "dict.items()"
   ]
  },
  {
   "cell_type": "code",
   "execution_count": 38,
   "id": "b8efd304-dc2d-42a6-8d66-33d9eb25c1a4",
   "metadata": {},
   "outputs": [
    {
     "data": {
      "text/plain": [
       "dict_values(['Alex', 28, 'N/A'])"
      ]
     },
     "execution_count": 38,
     "metadata": {},
     "output_type": "execute_result"
    }
   ],
   "source": [
    "dict.values()"
   ]
  },
  {
   "cell_type": "code",
   "execution_count": 39,
   "id": "5626e47d-dbe6-4584-9024-3df0bea23df7",
   "metadata": {},
   "outputs": [
    {
     "data": {
      "text/plain": [
       "dict_keys(['name', 'age', 'hair'])"
      ]
     },
     "execution_count": 39,
     "metadata": {},
     "output_type": "execute_result"
    }
   ],
   "source": [
    "dict.keys()"
   ]
  },
  {
   "cell_type": "code",
   "execution_count": 44,
   "id": "1c5f2306-f68f-4952-8119-7c215ecc054a",
   "metadata": {},
   "outputs": [
    {
     "ename": "TypeError",
     "evalue": "'list' object is not callable",
     "output_type": "error",
     "traceback": [
      "\u001b[1;31m---------------------------------------------------------------------------\u001b[0m",
      "\u001b[1;31mTypeError\u001b[0m                                 Traceback (most recent call last)",
      "Cell \u001b[1;32mIn[44], line 1\u001b[0m\n\u001b[1;32m----> 1\u001b[0m \u001b[38;5;28mtype\u001b[39m(\u001b[38;5;28mlist\u001b[39m(\u001b[38;5;28mdict\u001b[39m\u001b[38;5;241m.\u001b[39mkeys()))\n",
      "\u001b[1;31mTypeError\u001b[0m: 'list' object is not callable"
     ]
    }
   ],
   "source": [
    "type(list(dict.keys()))"
   ]
  },
  {
   "cell_type": "code",
   "execution_count": 45,
   "id": "ec203acd-c812-41b3-9088-765bec556240",
   "metadata": {},
   "outputs": [
    {
     "ename": "TypeError",
     "evalue": "'list' object is not callable",
     "output_type": "error",
     "traceback": [
      "\u001b[1;31m---------------------------------------------------------------------------\u001b[0m",
      "\u001b[1;31mTypeError\u001b[0m                                 Traceback (most recent call last)",
      "Cell \u001b[1;32mIn[45], line 1\u001b[0m\n\u001b[1;32m----> 1\u001b[0m \u001b[38;5;28mlist\u001b[39m(\u001b[38;5;28mdict\u001b[39m\u001b[38;5;241m.\u001b[39mvalues())\n",
      "\u001b[1;31mTypeError\u001b[0m: 'list' object is not callable"
     ]
    }
   ],
   "source": [
    "list(dict.values())"
   ]
  },
  {
   "cell_type": "code",
   "execution_count": 46,
   "id": "c97a7c53-4faf-4d60-91c4-2385f4cd75bb",
   "metadata": {},
   "outputs": [],
   "source": [
    "str = 'I like to party'"
   ]
  },
  {
   "cell_type": "code",
   "execution_count": 47,
   "id": "54246b1d-da84-4daa-8906-94477aeb0a1d",
   "metadata": {},
   "outputs": [
    {
     "data": {
      "text/plain": [
       "{' ', 'I', 'a', 'e', 'i', 'k', 'l', 'o', 'p', 'r', 't', 'y'}"
      ]
     },
     "execution_count": 47,
     "metadata": {},
     "output_type": "execute_result"
    }
   ],
   "source": [
    "set(str)"
   ]
  },
  {
   "cell_type": "code",
   "execution_count": 48,
   "id": "7ff6534b-9765-48f6-a02f-a6e1ec0bb7e1",
   "metadata": {},
   "outputs": [
    {
     "ename": "TypeError",
     "evalue": "'list' object is not callable",
     "output_type": "error",
     "traceback": [
      "\u001b[1;31m---------------------------------------------------------------------------\u001b[0m",
      "\u001b[1;31mTypeError\u001b[0m                                 Traceback (most recent call last)",
      "Cell \u001b[1;32mIn[48], line 1\u001b[0m\n\u001b[1;32m----> 1\u001b[0m \u001b[38;5;28mlist\u001b[39m(\u001b[38;5;28mstr\u001b[39m)\n",
      "\u001b[1;31mTypeError\u001b[0m: 'list' object is not callable"
     ]
    }
   ],
   "source": [
    "list(str)"
   ]
  },
  {
   "cell_type": "code",
   "execution_count": null,
   "id": "5ec2b9b0-74c0-4170-8cb5-012dc56f1f72",
   "metadata": {},
   "outputs": [],
   "source": []
  }
 ],
 "metadata": {
  "kernelspec": {
   "display_name": "Python 3 (ipykernel)",
   "language": "python",
   "name": "python3"
  },
  "language_info": {
   "codemirror_mode": {
    "name": "ipython",
    "version": 3
   },
   "file_extension": ".py",
   "mimetype": "text/x-python",
   "name": "python",
   "nbconvert_exporter": "python",
   "pygments_lexer": "ipython3",
   "version": "3.11.7"
  }
 },
 "nbformat": 4,
 "nbformat_minor": 5
}
